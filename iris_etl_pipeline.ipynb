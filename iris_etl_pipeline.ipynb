{
  "nbformat": 4,
  "nbformat_minor": 0,
  "metadata": {
    "colab": {
      "provenance": []
    },
    "kernelspec": {
      "name": "python3",
      "display_name": "Python 3"
    },
    "language_info": {
      "name": "python"
    }
  },
  "cells": [
    {
      "cell_type": "code",
      "execution_count": 1,
      "metadata": {
        "colab": {
          "base_uri": "https://localhost:8080/"
        },
        "id": "QxCjVk-Y5Yec",
        "outputId": "7384febc-5821-4254-9491-33da4461b38a"
      },
      "outputs": [
        {
          "output_type": "stream",
          "name": "stdout",
          "text": [
            "Original Data Sample:\n",
            "   sepal_length  sepal_width  petal_length  petal_width species\n",
            "0           5.1          3.5           1.4          0.2  setosa\n",
            "1           4.9          3.0           1.4          0.2  setosa\n",
            "2           4.7          3.2           1.3          0.2  setosa\n",
            "3           4.6          3.1           1.5          0.2  setosa\n",
            "4           5.0          3.6           1.4          0.2  setosa\n",
            "\n",
            "Missing values:\n",
            " sepal_length    0\n",
            "sepal_width     0\n",
            "petal_length    0\n",
            "petal_width     0\n",
            "species         0\n",
            "dtype: int64\n",
            "\n",
            "Transformed Data Sample:\n",
            "   sepal_length  sepal_width  petal_length  petal_width  species\n",
            "0     -0.900681     1.019004     -1.340227    -1.315444        0\n",
            "1     -1.143017    -0.131979     -1.340227    -1.315444        0\n",
            "2     -1.385353     0.328414     -1.397064    -1.315444        0\n",
            "3     -1.506521     0.098217     -1.283389    -1.315444        0\n",
            "4     -1.021849     1.249201     -1.340227    -1.315444        0\n",
            "\n",
            "✅ Processed dataset saved as 'processed_iris.csv'\n"
          ]
        }
      ],
      "source": [
        "# Iris Dataset ETL Pipeline - CODTECH Task 1\n",
        "\n",
        "import pandas as pd\n",
        "import seaborn as sns\n",
        "from sklearn.preprocessing import LabelEncoder, StandardScaler\n",
        "\n",
        "# 📥 Extract - Load the Iris dataset\n",
        "df = sns.load_dataset('iris')  # loads as DataFrame\n",
        "print(\"Original Data Sample:\")\n",
        "print(df.head())\n",
        "\n",
        "# 🧹 Transform - Clean and Preprocess\n",
        "\n",
        "# 1. Check for missing values\n",
        "print(\"\\nMissing values:\\n\", df.isnull().sum())\n",
        "\n",
        "# 2. Encode target column 'species'\n",
        "le = LabelEncoder()\n",
        "df['species'] = le.fit_transform(df['species'])\n",
        "# Setosa → 0, Versicolor → 1, Virginica → 2\n",
        "\n",
        "# 3. Scale numerical features\n",
        "scaler = StandardScaler()\n",
        "df[['sepal_length', 'sepal_width', 'petal_length', 'petal_width']] = scaler.fit_transform(\n",
        "    df[['sepal_length', 'sepal_width', 'petal_length', 'petal_width']]\n",
        ")\n",
        "\n",
        "# ✅ Check transformed data\n",
        "print(\"\\nTransformed Data Sample:\")\n",
        "print(df.head())\n",
        "\n",
        "# 📤 Load - Save the processed dataset to CSV\n",
        "df.to_csv('processed_iris.csv', index=False)\n",
        "print(\"\\n✅ Processed dataset saved as 'processed_iris.csv'\")\n"
      ]
    }
  ]
}